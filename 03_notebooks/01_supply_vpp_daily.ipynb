{
 "cells": [
  {
   "cell_type": "markdown",
   "id": "0850b427",
   "metadata": {},
   "source": [
    "# **Puerto Rico Supply & VPP Analysis** ⚡️🔋\n",
    "_Daily stacked supply profiles + VPP contribution, with a zoom-in waterfall for the peak hour._"
   ]
  },
  {
   "cell_type": "code",
   "execution_count": 8,
   "id": "27ad2337",
   "metadata": {},
   "outputs": [],
   "source": [
    "# Import Dependencies\n",
    "import os, polars as pl, pandas as pd, numpy as np\n",
    "import matplotlib.pyplot as plt, matplotlib as mpl\n",
    "from matplotlib.ticker import StrMethodFormatter\n",
    "from datetime import datetime, date, timedelta"
   ]
  },
  {
   "cell_type": "markdown",
   "id": "4bfbacbd",
   "metadata": {},
   "source": [
    "## **I. One time plotting + display config**\n",
    "Sets white plot backgrounds (nice in dark editors) and shows full Polars tables for quick inspection."
   ]
  },
  {
   "cell_type": "code",
   "execution_count": 9,
   "id": "1f9a3942",
   "metadata": {},
   "outputs": [],
   "source": [
    "# Adjust specific configurations by choice\n",
    "\n",
    "# Always white background in dark mode\n",
    "mpl.rcParams.update({\n",
    "    \"figure.facecolor\": \"white\",\n",
    "    \"axes.facecolor\": \"white\",\n",
    "    \"savefig.facecolor\": \"white\"\n",
    "})\n",
    "\n",
    "# Polars display\n",
    "pl.Config.set_tbl_cols(-1) # Show all columns\n",
    "pl.Config.set_tbl_rows(-1) # Show all rows\n",
    "\n",
    "def ordinal(n: int) -> str:\n",
    "    return f\"{n}{'th' if 11 <= n % 100 <= 13 else {1: 'st', 2: 'nd', 3: 'rd'}.get(n % 10, 'th')}\""
   ]
  },
  {
   "cell_type": "markdown",
   "id": "6e89b1e8",
   "metadata": {},
   "source": [
    "## **II. Load + clean (max discharge date and early casting)**\n",
    "Exclude the late-start day, cast types once up front, and detect the day with the highest VPP discharge to anchor the analysis."
   ]
  },
  {
   "cell_type": "code",
   "execution_count": 10,
   "id": "13a05d0c",
   "metadata": {},
   "outputs": [
    {
     "name": "stdout",
     "output_type": "stream",
     "text": [
      "Max discharge date: 2025-08-04\n"
     ]
    }
   ],
   "source": [
    "# Define base paths and directories\n",
    "base = \"/Users/jesusortiz/Documents/projects/02_energy\"\n",
    "input_01 = os.path.join(base, \"01_data/01_luma_data\")\n",
    "input_02 = os.path.join(base, \"01_data/02_tesla_data\")\n",
    "output_01 = os.path.join(base, \"06_outputs/01_tables\")\n",
    "output_02 = os.path.join(base, \"06_outputs/02_plots\")\n",
    "\n",
    "l_01 = pl.read_parquet(os.path.join(input_01, \"*.parquet\"))\n",
    "t_01 = pl.read_parquet(os.path.join(input_02, \"*.parquet\"))\n",
    "\n",
    "# Filter out startup date before casting\n",
    "STARTUP_DATE_STR = \"2025-08-03\"\n",
    "l_01 = l_01.filter(pl.col(\"date_collected\") != STARTUP_DATE_STR)\n",
    "t_01 = t_01.filter(pl.col(\"date_collected\") != STARTUP_DATE_STR)\n",
    "\n",
    "# Cast once, up-front\n",
    "l_01 = l_01.with_columns(\n",
    "    pl.col(\"max_amount\").cast(pl.Float32),\n",
    "    pl.col(\"act_amount\").cast(pl.Float32),\n",
    "    pl.col(\"date_collected\").cast(pl.Date),\n",
    "    pl.col(\"hour_run\").cast(pl.Int32),\n",
    "    pl.col(\"minute_run\").cast(pl.Int32),\n",
    ")\n",
    "\n",
    "t_01 = t_01.with_columns(\n",
    "    pl.col(\"value\").cast(pl.Float32),\n",
    "    pl.col(\"date_collected\").cast(pl.Date),\n",
    "    pl.col(\"hour_run\").cast(pl.Int32),\n",
    "    pl.col(\"minute_run\").cast(pl.Int32),\n",
    ")\n",
    "\n",
    "# Find the date with highest Battery Discharge (after casting)\n",
    "max_discharge = (\n",
    "    t_01\n",
    "    .filter(pl.col(\"variable\") == \"Battery Power - Discharging\")\n",
    "    .sort(\"value\", descending=True)\n",
    "    .select(\"date_collected\")\n",
    "    .to_series()\n",
    "    .to_list()[0]\n",
    ")\n",
    "\n",
    "print(\"Max discharge date:\", max_discharge)"
   ]
  },
  {
   "cell_type": "markdown",
   "id": "2f2d4a18",
   "metadata": {},
   "source": [
    "## **III. Coverage check**\n",
    "Confirms both sources have at least one record per hour in the shared window; today is ignored to avoid partial-hour gaps."
   ]
  },
  {
   "cell_type": "code",
   "execution_count": 11,
   "id": "f6ee53dd",
   "metadata": {},
   "outputs": [
    {
     "name": "stdout",
     "output_type": "stream",
     "text": [
      "✅ Both datasets have at least one entry per hour (excluding today).\n"
     ]
    }
   ],
   "source": [
    "# ## Data Coverage (hourly)\n",
    "IGNORE_TODAY = True\n",
    "\n",
    "def hourly_keys(df: pl.DataFrame) -> pl.DataFrame:\n",
    "    return (\n",
    "        df.select([\"date_collected\", \"hour_run\"])\n",
    "          .drop_nulls([\"date_collected\", \"hour_run\"])\n",
    "          .unique()\n",
    "          .with_columns(\n",
    "              (pl.col(\"date_collected\").cast(pl.Datetime) + pl.duration(hours=pl.col(\"hour_run\").cast(pl.Int64))).alias(\"ts\")\n",
    "          )\n",
    "          .select([\"date_collected\", \"hour_run\", \"ts\"])\n",
    "          .sort(\"ts\")\n",
    "    )\n",
    "\n",
    "def min_max_ts(df: pl.DataFrame):\n",
    "    if df.is_empty(): return None, None\n",
    "    ts_min, ts_max = df.select(pl.col(\"ts\").min().alias(\"ts_min\"), pl.col(\"ts\").max().alias(\"ts_max\")).row(0)\n",
    "    return ts_min, ts_max\n",
    "\n",
    "def build_expected(start_dt: datetime, end_dt: datetime) -> pl.DataFrame:\n",
    "    total_hours = int((end_dt - start_dt).total_seconds() // 3600) + 1\n",
    "    rows = [((start_dt + timedelta(hours=i)).date(), (start_dt + timedelta(hours=i)).hour) for i in range(total_hours)]\n",
    "    return pl.DataFrame(rows, schema={\"date_collected\": pl.Date, \"hour_run\": pl.Int32}, orient=\"row\")\n",
    "\n",
    "def check_missing_hours(l_01: pl.DataFrame, t_01: pl.DataFrame):\n",
    "    l_hrs, t_hrs = hourly_keys(l_01), hourly_keys(t_01)\n",
    "    l_min_ts, l_max_ts = min_max_ts(l_hrs)\n",
    "    t_min_ts, t_max_ts = min_max_ts(t_hrs)\n",
    "    if l_min_ts is None or t_min_ts is None:\n",
    "        print(\"One of the datasets has no rows; cannot compute coverage.\"); return\n",
    "    start = max(l_min_ts, t_min_ts)\n",
    "    end = min(l_max_ts, t_max_ts)\n",
    "    if IGNORE_TODAY:\n",
    "        today = date.today()\n",
    "        end = min(end, datetime.combine(today - timedelta(days=1), datetime.min.time()) + timedelta(hours=23))\n",
    "    if end < start:\n",
    "        print(\"Window collapses (likely only today's data). Skipping.\"); return\n",
    "    expected = build_expected(start, end)\n",
    "    missing_in_luma  = expected.join(l_hrs.select([\"date_collected\",\"hour_run\"]), on=[\"date_collected\",\"hour_run\"], how=\"anti\")\n",
    "    missing_in_tesla = expected.join(t_hrs.select([\"date_collected\",\"hour_run\"]), on=[\"date_collected\",\"hour_run\"], how=\"anti\")\n",
    "    if missing_in_luma.is_empty() and missing_in_tesla.is_empty():\n",
    "        print(\"✅ Both datasets have at least one entry per hour (excluding today).\")\n",
    "    else:\n",
    "        print(\"⚠️ Missing coverage (excluding today):\")\n",
    "        if not missing_in_luma.is_empty():  print(\"LUMA head:\\n\", missing_in_luma.head(20))\n",
    "        if not missing_in_tesla.is_empty(): print(\"Tesla head:\\n\", missing_in_tesla.head(20))\n",
    "\n",
    "check_missing_hours(l_01, t_01)\n"
   ]
  },
  {
   "cell_type": "markdown",
   "id": "a697716c",
   "metadata": {},
   "source": [
    "## **IV. Categorize + build hourly aggregate**\n",
    "Tags LUMA rows as Supply/Demand/Reserve/Peak, keeps the earliest minute per hour to avoid double counting, and aggregates Supply by `source_tab`."
   ]
  },
  {
   "cell_type": "code",
   "execution_count": 12,
   "id": "87debefa",
   "metadata": {},
   "outputs": [
    {
     "data": {
      "text/html": [
       "<div><style>\n",
       ".dataframe > thead > tr,\n",
       ".dataframe > tbody > tr {\n",
       "  text-align: right;\n",
       "  white-space: pre-wrap;\n",
       "}\n",
       "</style>\n",
       "<small>shape: (8, 4)</small><table border=\"1\" class=\"dataframe\"><thead><tr><th>source_tab</th><th>date_collected</th><th>hour_run</th><th>supply_mw</th></tr><tr><td>str</td><td>date</td><td>i32</td><td>f32</td></tr></thead><tbody><tr><td>&quot;Base Load&quot;</td><td>2025-08-04</td><td>0</td><td>1922.0</td></tr><tr><td>&quot;Renewable Load&quot;</td><td>2025-08-04</td><td>0</td><td>3.0</td></tr><tr><td>&quot;Peak Load&quot;</td><td>2025-08-04</td><td>0</td><td>387.0</td></tr><tr><td>&quot;VPP Discharge&quot;</td><td>2025-08-04</td><td>0</td><td>5.0</td></tr><tr><td>&quot;Base Load&quot;</td><td>2025-08-04</td><td>1</td><td>2016.0</td></tr><tr><td>&quot;Renewable Load&quot;</td><td>2025-08-04</td><td>1</td><td>5.0</td></tr><tr><td>&quot;Peak Load&quot;</td><td>2025-08-04</td><td>1</td><td>416.0</td></tr><tr><td>&quot;VPP Discharge&quot;</td><td>2025-08-04</td><td>1</td><td>5.0</td></tr></tbody></table></div>"
      ],
      "text/plain": [
       "shape: (8, 4)\n",
       "┌────────────────┬────────────────┬──────────┬───────────┐\n",
       "│ source_tab     ┆ date_collected ┆ hour_run ┆ supply_mw │\n",
       "│ ---            ┆ ---            ┆ ---      ┆ ---       │\n",
       "│ str            ┆ date           ┆ i32      ┆ f32       │\n",
       "╞════════════════╪════════════════╪══════════╪═══════════╡\n",
       "│ Base Load      ┆ 2025-08-04     ┆ 0        ┆ 1922.0    │\n",
       "│ Renewable Load ┆ 2025-08-04     ┆ 0        ┆ 3.0       │\n",
       "│ Peak Load      ┆ 2025-08-04     ┆ 0        ┆ 387.0     │\n",
       "│ VPP Discharge  ┆ 2025-08-04     ┆ 0        ┆ 5.0       │\n",
       "│ Base Load      ┆ 2025-08-04     ┆ 1        ┆ 2016.0    │\n",
       "│ Renewable Load ┆ 2025-08-04     ┆ 1        ┆ 5.0       │\n",
       "│ Peak Load      ┆ 2025-08-04     ┆ 1        ┆ 416.0     │\n",
       "│ VPP Discharge  ┆ 2025-08-04     ┆ 1        ┆ 5.0       │\n",
       "└────────────────┴────────────────┴──────────┴───────────┘"
      ]
     },
     "metadata": {},
     "output_type": "display_data"
    }
   ],
   "source": [
    "\n",
    "# Feature engineering (categories, earliest-minute logic)\n",
    "supply_variables = [\"AES\",\"Aguirre\",\"Cambalache\",\"Ciclo Combinado Aguirre\",\"Costa Sur\",\"Eco Eléctrica\",\n",
    "                    \"Gas de Vertedero\",\"Hydroeléctrico\",\"Mayaguez\",\"Palo Seco\",\"Palo Seco TM\",\n",
    "                    \"San Juan\",\"San Juan TM\",\"Solar\",\"Turbina de Gas\",\"Viento\"]\n",
    "demand_variables  = [\"Demanda Actual\"]\n",
    "reserve_variables = [\"Reserva Actual\"]\n",
    "peak_variables    = [\"Demanda Pico\",\"Reserva Pico\"]\n",
    "\n",
    "# Add 'category' column to l_01\n",
    "l_02 = (\n",
    "    l_01\n",
    "    .with_columns(\n",
    "        pl.when(pl.col(\"variable\").is_in(supply_variables)).then(pl.lit(\"Supply\"))\n",
    "        .when(pl.col(\"variable\").is_in(demand_variables)).then(pl.lit(\"Demand\"))\n",
    "        .when(pl.col(\"variable\").is_in(reserve_variables)).then(pl.lit(\"Reserve\"))\n",
    "        .when(pl.col(\"variable\").is_in(peak_variables)).then(pl.lit(\"Peak\"))\n",
    "        .otherwise(pl.lit(\"Other\"))\n",
    "        .alias(\"category\")\n",
    "    )\n",
    ")\n",
    "\n",
    "# LUMA: earliest minute per plant per hour -> sum by source_tab/hour\n",
    "l_03 = (\n",
    "    l_02.filter((pl.col(\"date_collected\") == max_discharge) & (pl.col(\"category\") == \"Supply\"))\n",
    "        .sort([\"variable\",\"source_tab\",\"date_collected\",\"hour_run\",\"minute_run\"])\n",
    "        .group_by([\"variable\",\"source_tab\",\"date_collected\",\"hour_run\"]).first()\n",
    "        .group_by([\"source_tab\",\"date_collected\",\"hour_run\"])\n",
    "        .agg(pl.col(\"act_amount\").sum().round(0).alias(\"supply_mw\"))\n",
    "        .sort([\"date_collected\",\"hour_run\",\"source_tab\"])\n",
    ")\n",
    "\n",
    "# Tesla: earliest minute per hour -> sum (and keep a consistent label)\n",
    "t_02 = (\n",
    "    t_01.filter((pl.col(\"variable\") == \"Battery Power - Discharging\") & (pl.col(\"date_collected\") == max_discharge))\n",
    "        .sort([\"variable\",\"date_collected\",\"hour_run\",\"minute_run\"])\n",
    "        .group_by([\"variable\",\"date_collected\",\"hour_run\"]).first()\n",
    "        .group_by([\"variable\",\"date_collected\",\"hour_run\"])\n",
    "        .agg(pl.col(\"value\").sum().round(0).alias(\"supply_mw\"))\n",
    "        .rename({\"variable\":\"source_tab\"})\n",
    ")\n",
    "\n",
    "combined_df = pl.concat([l_03, t_02])\n",
    "\n",
    "# Label harmonization\n",
    "combined_df = combined_df.with_columns(\n",
    "    pl.col(\"source_tab\").replace({\n",
    "        \"Suministro Base\": \"Base Load\",\n",
    "        \"Suministros Pico\": \"Peak Load\",\n",
    "        \"Suministro Renovable\": \"Renewable Load\",\n",
    "        \"Battery Power - Discharging\": \"VPP Discharge\",\n",
    "    })\n",
    ")\n",
    "\n",
    "df = combined_df.sort([\"date_collected\",\"hour_run\"])\n",
    "display(df.head(8))\n"
   ]
  },
  {
   "cell_type": "markdown",
   "id": "c8a61c31",
   "metadata": {},
   "source": [
    "## **V. Stacked bars**\n",
    "Daily mix across **Base / Peak / Renewable / VPP**; title states the peak hour and VPP share for a clear takeaway."
   ]
  },
  {
   "cell_type": "code",
   "execution_count": 13,
   "id": "39da6500",
   "metadata": {},
   "outputs": [
    {
     "data": {
      "image/png": "[encoded data removed]",
      "text/plain": [
       "<Figure size 1200x550 with 1 Axes>"
      ]
     },
     "metadata": {},
     "output_type": "display_data"
    }
   ],
   "source": [
    "# Daily stacked supply with VPP\n",
    "label_map = {\n",
    "    \"Suministro Base\": \"Base Load\",\n",
    "    \"Suministro Pico\": \"Peak Load\",\n",
    "    \"Suministros Pico\": \"Peak Load\",\n",
    "    \"Suministro Renovable\": \"Renewable Load\",\n",
    "    \"Battery Power - Discharging\": \"VPP Discharge\",\n",
    "}\n",
    "order = [\"Base Load\",\"Peak Load\",\"Renewable Load\",\"VPP Discharge\"]\n",
    "\n",
    "df1 = df.with_columns(pl.col(\"source_tab\").replace(label_map))\n",
    "\n",
    "# unify value name to 'mw'\n",
    "candidates = [\"mw\",\"supply_mw\",\"battery_discharge_mw\"]\n",
    "present = [c for c in candidates if c in df1.columns]\n",
    "df1 = df1.rename({present[0]: \"mw\"}) if len(present)==1 else df1.with_columns(pl.coalesce([pl.col(c) for c in present]).alias(\"mw\"))\n",
    "\n",
    "day = df1.select(\"date_collected\").unique().item()\n",
    "day_py = pd.to_datetime(str(day)).date()\n",
    "pretty_day = f\"{day_py.strftime('%B')} {ordinal(day_py.day)}, {day_py.year}\"\n",
    "\n",
    "# pivot: Polars >=1.0 uses `on=`\n",
    "wide = (\n",
    "    df1.filter(pl.col(\"date_collected\")==day)\n",
    "       .pivot(index=\"hour_run\", on=\"source_tab\", values=\"mw\", aggregate_function=\"sum\")\n",
    "       .sort(\"hour_run\")\n",
    ")\n",
    "for col in order:\n",
    "    if col not in wide.columns: wide = wide.with_columns(pl.lit(0).alias(col))\n",
    "all_hours = pl.DataFrame({\"hour_run\": list(range(24))})\n",
    "wide = all_hours.join(wide, on=\"hour_run\", how=\"left\").with_columns(pl.all().exclude(\"hour_run\").fill_null(0)).select([\"hour_run\"]+order)\n",
    "pdf = wide.to_pandas().set_index(\"hour_run\")\n",
    "\n",
    "# palette (your final choices)\n",
    "COL_BASE, COL_PEAK, COL_RENW, COL_VPP = \"#E0E0E0\", \"#4C78A8\", \"#F28E2B\", \"#FF6F61\"\n",
    "colors = [COL_BASE,COL_PEAK,COL_RENW,COL_VPP]\n",
    "\n",
    "fig, ax = plt.subplots(figsize=(12,5.5))\n",
    "bottom = np.zeros(len(pdf), dtype=float)\n",
    "for col, c in zip(order, colors):\n",
    "    ax.bar(pdf.index, pdf[col].to_numpy(), bottom=bottom, label=col, color=c, linewidth=0)\n",
    "    bottom += pdf[col].to_numpy()\n",
    "\n",
    "total = pdf.sum(axis=1).to_numpy()\n",
    "vpp   = pdf[\"VPP Discharge\"].to_numpy()\n",
    "peak_hr = int(np.nanargmax(total))\n",
    "peak_total, peak_vpp = float(total[peak_hr]), float(vpp[peak_hr])\n",
    "vpp_share = (peak_vpp/peak_total*100) if peak_total>0 else 0.0\n",
    "\n",
    "ax.set_title(f\"Supply by Source — VPP peaks {peak_vpp:,.0f} MW ({vpp_share:.1f}%) at {peak_hr:02d}:00 — {pretty_day}\")\n",
    "ax.set_xlabel(\"Hour of Day\"); ax.set_ylabel(\"MW\"); ax.yaxis.set_major_formatter(StrMethodFormatter('{x:,.0f}'))\n",
    "ax.grid(True, axis='y', linestyle='-', linewidth=0.5, alpha=0.25); ax.grid(False, axis='x')\n",
    "for s in (\"top\",\"right\",\"left\",\"bottom\"): ax.spines[s].set_visible(False)\n",
    "ax.tick_params(axis='x', length=0); ax.tick_params(axis='y', length=0)\n",
    "ax.legend(loc=\"upper center\", bbox_to_anchor=(0.5,-0.12), ncol=4, frameon=False)\n",
    "plt.tight_layout()\n",
    "plt.show()\n"
   ]
  },
  {
   "cell_type": "code",
   "execution_count": 14,
   "id": "f3b08258",
   "metadata": {},
   "outputs": [],
   "source": [
    "# Save figures\n",
    "\n",
    "# name the file using the analysis day\n",
    "fname = os.path.join(output_02, f\"supply_stack_{day_py:%Y-%m-%d}\")\n",
    "fig.savefig(f\"{fname}.png\", dpi=300, bbox_inches=\"tight\", facecolor=\"white\")\n",
    "# optional vector version for print/design\n",
    "fig.savefig(f\"{fname}.svg\", bbox_inches=\"tight\", facecolor=\"white\")"
   ]
  },
  {
   "cell_type": "markdown",
   "id": "c8466116",
   "metadata": {},
   "source": [
    "## **VI. Waterfall**\n",
    "oom-in on the peak hour to show how each component stacks up to the total."
   ]
  },
  {
   "cell_type": "code",
   "execution_count": 17,
   "id": "95a690b9",
   "metadata": {},
   "outputs": [
    {
     "data": {
      "image/png": "[encoded data removed]",
      "text/plain": [
       "<Figure size 900x500 with 1 Axes>"
      ]
     },
     "metadata": {},
     "output_type": "display_data"
    }
   ],
   "source": [
    "# Peak hour composition (waterfall)\n",
    "order = [\"Base Load\",\"Peak Load\",\"Renewable Load\",\"VPP Discharge\"]\n",
    "df1 = df1  # from previous cell\n",
    "\n",
    "totals = (df1.filter(pl.col(\"date_collected\")==day)\n",
    "             .group_by(\"hour_run\")\n",
    "             .agg(pl.col(\"mw\").sum().alias(\"total\"))\n",
    "             .sort(\"hour_run\"))\n",
    "peak_hr, peak_total = totals.sort(\"total\", descending=True).row(0)\n",
    "peak_hr, peak_total = int(peak_hr), float(peak_total)\n",
    "\n",
    "comp = (df1.filter((pl.col(\"date_collected\")==day) & (pl.col(\"hour_run\")==peak_hr) & (pl.col(\"source_tab\").is_in(order)))\n",
    "            .group_by(\"source_tab\").agg(pl.col(\"mw\").sum().alias(\"mw\")))\n",
    "vals_map = {k:0.0 for k in order}\n",
    "vals_map.update({r[0]: float(r[1]) for r in comp.iter_rows()})\n",
    "vals = [vals_map[k] for k in order]\n",
    "labels = [\"Base\",\"Peak\",\"Renewables\",\"VPP\"]\n",
    "\n",
    "starts = np.r_[0, np.cumsum(vals)[:-1]]\n",
    "x = np.arange(len(vals)); width = 0.7\n",
    "\n",
    "COL_BASE, COL_PEAK, COL_RENW, COL_VPP, COL_TOTAL = \"#E0E0E0\",\"#4C78A8\",\"#F28E2B\",\"#FF6F61\",\"#7F7F7F\"\n",
    "colors = [COL_BASE,COL_PEAK,COL_RENW,COL_VPP]\n",
    "\n",
    "fig, ax = plt.subplots(figsize=(9,5))\n",
    "for i,(s,v,c,lab) in enumerate(zip(starts, vals, colors, labels)):\n",
    "    ax.bar(i, v, bottom=s, color=c, width=width, edgecolor=\"none\", label=lab)\n",
    "ax.bar(len(vals)+0.6, peak_total, color=COL_TOTAL, width=0.7, edgecolor=\"none\")\n",
    "ax.text(len(vals)+0.6, peak_total + peak_total*0.02, f\"{peak_total:,.0f} MW\", ha=\"center\", va=\"bottom\", fontsize=10)\n",
    "\n",
    "for i,(s,v) in enumerate(zip(starts, vals)):\n",
    "    if v>0: ax.text(i, s+v/2, f\"{v:,.0f}\", ha=\"center\", va=\"center\", fontsize=9, color=\"#222\")\n",
    "\n",
    "ax.set_title(f\"Peak Hour Composition — {peak_hr:02d}:00, {pretty_day}\")\n",
    "ax.set_xticks(list(x)+[len(vals)+0.6]); ax.set_xticklabels(labels+[\"Total\"])\n",
    "ax.set_ylabel(\"MW\"); ax.yaxis.set_major_formatter(StrMethodFormatter('{x:,.0f}'))\n",
    "\n",
    "# ❌ no grid lines at all\n",
    "ax.grid(False)\n",
    "\n",
    "for s in (\"top\",\"right\",\"left\",\"bottom\"): ax.spines[s].set_visible(False)\n",
    "ax.legend(loc=\"upper center\", bbox_to_anchor=(0.5,-0.12), ncol=5, frameon=False)\n",
    "\n",
    "plt.tight_layout(); plt.show()"
   ]
  },
  {
   "cell_type": "code",
   "execution_count": 18,
   "id": "95ec40a6",
   "metadata": {},
   "outputs": [],
   "source": [
    "# include the peak hour in the filename (nice touch)\n",
    "fname = os.path.join(output_02, f\"peak_waterfall_{day_py:%Y-%m-%d}_{peak_hr:02d}00\")\n",
    "fig.savefig(f\"{fname}.png\", dpi=300, bbox_inches=\"tight\", facecolor=\"white\")\n",
    "fig.savefig(f\"{fname}.svg\", bbox_inches=\"tight\", facecolor=\"white\")"
   ]
  }
 ],
 "metadata": {
  "kernelspec": {
   "display_name": "Python 3.12 (latest)",
   "language": "python",
   "name": "py312"
  },
  "language_info": {
   "codemirror_mode": {
    "name": "ipython",
    "version": 3
   },
   "file_extension": ".py",
   "mimetype": "text/x-python",
   "name": "python",
   "nbconvert_exporter": "python",
   "pygments_lexer": "ipython3",
   "version": "3.12.11"
  }
 },
 "nbformat": 4,
 "nbformat_minor": 5
}
